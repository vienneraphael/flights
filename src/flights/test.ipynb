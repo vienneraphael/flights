{
 "cells": [
  {
   "cell_type": "code",
   "execution_count": 2,
   "metadata": {},
   "outputs": [
    {
     "name": "stdout",
     "output_type": "stream",
     "text": [
      "https://www.google.com/travel/flights?tfs=GhoSCjIwMjUtMDctMDJqBRIDQ0RHcgUSA0tJWEIDAQECSAGYAQI=&curr=EUR\n"
     ]
    }
   ],
   "source": [
    "from fast_flights import FlightData, Passengers, create_filter, get_flights\n",
    "# Create a new filter\n",
    "filter = create_filter(\n",
    "    flight_data=[\n",
    "        # Include more if it's not a one-way trip\n",
    "        FlightData(\n",
    "            date=\"2025-07-02\",  # Date of departure\n",
    "            from_airport=\"CDG\", \n",
    "            to_airport=\"KIX\"\n",
    "        ),\n",
    "        # ... include more for round trips\n",
    "    ],\n",
    "    trip=\"one-way\",  # Trip (round-trip, one-way)\n",
    "    seat=\"economy\",  # Seat (economy, premium-economy, business or first)\n",
    "    passengers=Passengers(\n",
    "        adults=2,\n",
    "        children=1,\n",
    "        infants_in_seat=0,\n",
    "        infants_on_lap=0\n",
    "    ),\n",
    ")\n",
    "\n",
    "b64 = filter.as_b64().decode('utf-8')\n",
    "print(\n",
    "    \"https://www.google.com/travel/flights?tfs=%s&curr=EUR\" % b64\n",
    ")"
   ]
  },
  {
   "cell_type": "code",
   "execution_count": null,
   "metadata": {},
   "outputs": [],
   "source": []
  },
  {
   "cell_type": "code",
   "execution_count": null,
   "metadata": {},
   "outputs": [],
   "source": []
  }
 ],
 "metadata": {
  "kernelspec": {
   "display_name": ".venv",
   "language": "python",
   "name": "python3"
  },
  "language_info": {
   "codemirror_mode": {
    "name": "ipython",
    "version": 3
   },
   "file_extension": ".py",
   "mimetype": "text/x-python",
   "name": "python",
   "nbconvert_exporter": "python",
   "pygments_lexer": "ipython3",
   "version": "3.12.4"
  }
 },
 "nbformat": 4,
 "nbformat_minor": 2
}
